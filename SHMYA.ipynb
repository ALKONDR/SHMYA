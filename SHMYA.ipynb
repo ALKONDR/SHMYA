{
 "cells": [
  {
   "cell_type": "code",
   "execution_count": 133,
   "metadata": {},
   "outputs": [],
   "source": [
    "import pandas as pd\n",
    "import numpy as np\n",
    "\n",
    "from gensim.models import word2vec\n",
    "import logging\n",
    "logging.basicConfig(format='%(asctime)s : %(levelname)s : %(message)s', level=logging.INFO)\n",
    "\n",
    "from sklearn.cluster import KMeans\n",
    "from sklearn.preprocessing import normalize\n",
    "\n",
    "from tqdm import tqdm_notebook"
   ]
  },
  {
   "cell_type": "code",
   "execution_count": 10,
   "metadata": {},
   "outputs": [],
   "source": [
    "log = pd.read_csv('Log', sep='\\t')"
   ]
  },
  {
   "cell_type": "markdown",
   "metadata": {},
   "source": [
    "# Тэк, посмотрим, что у нас тут есть..."
   ]
  },
  {
   "cell_type": "code",
   "execution_count": 11,
   "metadata": {},
   "outputs": [
    {
     "data": {
      "text/html": [
       "<div>\n",
       "<style scoped>\n",
       "    .dataframe tbody tr th:only-of-type {\n",
       "        vertical-align: middle;\n",
       "    }\n",
       "\n",
       "    .dataframe tbody tr th {\n",
       "        vertical-align: top;\n",
       "    }\n",
       "\n",
       "    .dataframe thead th {\n",
       "        text-align: right;\n",
       "    }\n",
       "</style>\n",
       "<table border=\"1\" class=\"dataframe\">\n",
       "  <thead>\n",
       "    <tr style=\"text-align: right;\">\n",
       "      <th></th>\n",
       "      <th>timestamp</th>\n",
       "      <th>datetime</th>\n",
       "      <th>device</th>\n",
       "      <th>numdoc</th>\n",
       "      <th>region</th>\n",
       "      <th>request</th>\n",
       "      <th>urls</th>\n",
       "    </tr>\n",
       "  </thead>\n",
       "  <tbody>\n",
       "    <tr>\n",
       "      <th>0</th>\n",
       "      <td>1520974800</td>\n",
       "      <td>2018-03-14 00:00</td>\n",
       "      <td>desktop</td>\n",
       "      <td>317731505</td>\n",
       "      <td>6</td>\n",
       "      <td>https://yandex.ru/search/?text=порно видео сек...</td>\n",
       "      <td>http://porno-sex-video.com/eroticheskie-filmy-...</td>\n",
       "    </tr>\n",
       "    <tr>\n",
       "      <th>1</th>\n",
       "      <td>1520974800</td>\n",
       "      <td>2018-03-14 00:00</td>\n",
       "      <td>desktop</td>\n",
       "      <td>277053268</td>\n",
       "      <td>191</td>\n",
       "      <td>https://yandex.ru/search/?text=sad story скача...</td>\n",
       "      <td>http://mp3party.net/music/8507899;http://muz-c...</td>\n",
       "    </tr>\n",
       "    <tr>\n",
       "      <th>2</th>\n",
       "      <td>1520974800</td>\n",
       "      <td>2018-03-14 00:00</td>\n",
       "      <td>touch</td>\n",
       "      <td>19987730</td>\n",
       "      <td>2</td>\n",
       "      <td>https://yandex.ru/search/?text=ольгино баня&amp;fl...</td>\n",
       "      <td>http://www.bani.spb.ru/olgino.html;https://sau...</td>\n",
       "    </tr>\n",
       "    <tr>\n",
       "      <th>3</th>\n",
       "      <td>1520974800</td>\n",
       "      <td>2018-03-14 00:00</td>\n",
       "      <td>touch</td>\n",
       "      <td>196215754</td>\n",
       "      <td>26955</td>\n",
       "      <td>https://yandex.ru/search/?text=фирменный магаз...</td>\n",
       "      <td>http://www.marko.by/actions/;https://marko.vit...</td>\n",
       "    </tr>\n",
       "    <tr>\n",
       "      <th>4</th>\n",
       "      <td>1520974800</td>\n",
       "      <td>2018-03-14 00:00</td>\n",
       "      <td>desktop</td>\n",
       "      <td>3909882795</td>\n",
       "      <td>101704</td>\n",
       "      <td>https://yandex.ru/search/?text=порно&amp;rl=313</td>\n",
       "      <td>http://porno365.xxx/;https://prostoporno.sex/c...</td>\n",
       "    </tr>\n",
       "  </tbody>\n",
       "</table>\n",
       "</div>"
      ],
      "text/plain": [
       "    timestamp          datetime   device      numdoc  region  \\\n",
       "0  1520974800  2018-03-14 00:00  desktop   317731505       6   \n",
       "1  1520974800  2018-03-14 00:00  desktop   277053268     191   \n",
       "2  1520974800  2018-03-14 00:00    touch    19987730       2   \n",
       "3  1520974800  2018-03-14 00:00    touch   196215754   26955   \n",
       "4  1520974800  2018-03-14 00:00  desktop  3909882795  101704   \n",
       "\n",
       "                                             request  \\\n",
       "0  https://yandex.ru/search/?text=порно видео сек...   \n",
       "1  https://yandex.ru/search/?text=sad story скача...   \n",
       "2  https://yandex.ru/search/?text=ольгино баня&fl...   \n",
       "3  https://yandex.ru/search/?text=фирменный магаз...   \n",
       "4        https://yandex.ru/search/?text=порно&rl=313   \n",
       "\n",
       "                                                urls  \n",
       "0  http://porno-sex-video.com/eroticheskie-filmy-...  \n",
       "1  http://mp3party.net/music/8507899;http://muz-c...  \n",
       "2  http://www.bani.spb.ru/olgino.html;https://sau...  \n",
       "3  http://www.marko.by/actions/;https://marko.vit...  \n",
       "4  http://porno365.xxx/;https://prostoporno.sex/c...  "
      ]
     },
     "execution_count": 11,
     "metadata": {},
     "output_type": "execute_result"
    }
   ],
   "source": [
    "log.head()"
   ]
  },
  {
   "cell_type": "code",
   "execution_count": 12,
   "metadata": {
    "scrolled": true
   },
   "outputs": [
    {
     "data": {
      "text/plain": [
       "(1333503, 7)"
      ]
     },
     "execution_count": 12,
     "metadata": {},
     "output_type": "execute_result"
    }
   ],
   "source": [
    "log.shape"
   ]
  },
  {
   "cell_type": "markdown",
   "metadata": {},
   "source": [
    "# Достанем все запросы"
   ]
  },
  {
   "cell_type": "code",
   "execution_count": 25,
   "metadata": {},
   "outputs": [],
   "source": [
    "requests = np.array([val.split('=')[1].split('&')[0] for val in log['request'].values])"
   ]
  },
  {
   "cell_type": "code",
   "execution_count": 40,
   "metadata": {},
   "outputs": [],
   "source": [
    "sentences = [s.split(' ') for s in requests]"
   ]
  },
  {
   "cell_type": "code",
   "execution_count": 41,
   "metadata": {
    "scrolled": true
   },
   "outputs": [
    {
     "data": {
      "text/plain": [
       "[['порно', 'видео', 'секс', 'за', 'деньги'],\n",
       " ['sad', 'story', 'скачать', 'бесплатно', 'mp3', 'в', 'хорошем', 'качестве'],\n",
       " ['ольгино', 'баня'],\n",
       " ['фирменный', 'магазин', 'марко', 'в', 'г', 'минске', 'скидки', 'акции'],\n",
       " ['порно'],\n",
       " ['нужно', 'ли', 'мыть', 'гречку', 'перед', 'варкой'],\n",
       " ['сергей', 'из', 'ярославля', 'дом', '2?'],\n",
       " ['красный', 'дракон', 'фильм', '2002'],\n",
       " ['земельно', 'оценочные', 'работы', 'в', 'земельном', 'кадастре'],\n",
       " ['']]"
      ]
     },
     "execution_count": 41,
     "metadata": {},
     "output_type": "execute_result"
    }
   ],
   "source": [
    "sentences[:10]"
   ]
  },
  {
   "cell_type": "markdown",
   "metadata": {},
   "source": [
    "# Теперь вообще прикольно\n",
    "###### слишком лень придумывать слова о телеке, поэтому позволим умному word2vec сделать это за нас :)"
   ]
  },
  {
   "cell_type": "code",
   "execution_count": 255,
   "metadata": {
    "scrolled": true
   },
   "outputs": [
    {
     "name": "stderr",
     "output_type": "stream",
     "text": [
      "2018-04-21 18:34:51,353 : INFO : collecting all words and their counts\n",
      "2018-04-21 18:34:51,364 : INFO : PROGRESS: at sentence #0, processed 0 words, keeping 0 word types\n",
      "2018-04-21 18:34:51,470 : INFO : PROGRESS: at sentence #10000, processed 38545 words, keeping 18457 word types\n",
      "2018-04-21 18:34:51,794 : INFO : PROGRESS: at sentence #20000, processed 77115 words, keeping 31846 word types\n",
      "2018-04-21 18:34:52,043 : INFO : PROGRESS: at sentence #30000, processed 114817 words, keeping 43255 word types\n",
      "2018-04-21 18:34:52,253 : INFO : PROGRESS: at sentence #40000, processed 153043 words, keeping 53897 word types\n",
      "2018-04-21 18:34:52,432 : INFO : PROGRESS: at sentence #50000, processed 190726 words, keeping 63253 word types\n",
      "2018-04-21 18:34:52,616 : INFO : PROGRESS: at sentence #60000, processed 229408 words, keeping 71958 word types\n",
      "2018-04-21 18:34:52,870 : INFO : PROGRESS: at sentence #70000, processed 269259 words, keeping 80373 word types\n",
      "2018-04-21 18:34:53,076 : INFO : PROGRESS: at sentence #80000, processed 309460 words, keeping 88298 word types\n",
      "2018-04-21 18:34:53,152 : INFO : PROGRESS: at sentence #90000, processed 349427 words, keeping 95745 word types\n",
      "2018-04-21 18:34:53,248 : INFO : PROGRESS: at sentence #100000, processed 389424 words, keeping 102987 word types\n",
      "2018-04-21 18:34:53,332 : INFO : PROGRESS: at sentence #110000, processed 429479 words, keeping 109887 word types\n",
      "2018-04-21 18:34:53,412 : INFO : PROGRESS: at sentence #120000, processed 469545 words, keeping 116685 word types\n",
      "2018-04-21 18:34:53,489 : INFO : PROGRESS: at sentence #130000, processed 509090 words, keeping 123291 word types\n",
      "2018-04-21 18:34:53,574 : INFO : PROGRESS: at sentence #140000, processed 549418 words, keeping 129916 word types\n",
      "2018-04-21 18:34:53,676 : INFO : PROGRESS: at sentence #150000, processed 589850 words, keeping 136397 word types\n",
      "2018-04-21 18:34:53,746 : INFO : PROGRESS: at sentence #160000, processed 630481 words, keeping 142502 word types\n",
      "2018-04-21 18:34:53,799 : INFO : PROGRESS: at sentence #170000, processed 670624 words, keeping 148661 word types\n",
      "2018-04-21 18:34:53,844 : INFO : PROGRESS: at sentence #180000, processed 711681 words, keeping 154924 word types\n",
      "2018-04-21 18:34:53,959 : INFO : PROGRESS: at sentence #190000, processed 752951 words, keeping 161135 word types\n",
      "2018-04-21 18:34:54,095 : INFO : PROGRESS: at sentence #200000, processed 793040 words, keeping 167171 word types\n",
      "2018-04-21 18:34:54,173 : INFO : PROGRESS: at sentence #210000, processed 832972 words, keeping 173072 word types\n",
      "2018-04-21 18:34:54,259 : INFO : PROGRESS: at sentence #220000, processed 873192 words, keeping 178950 word types\n",
      "2018-04-21 18:34:54,307 : INFO : PROGRESS: at sentence #230000, processed 913689 words, keeping 184740 word types\n",
      "2018-04-21 18:34:54,358 : INFO : PROGRESS: at sentence #240000, processed 953953 words, keeping 190541 word types\n",
      "2018-04-21 18:34:54,409 : INFO : PROGRESS: at sentence #250000, processed 994709 words, keeping 196221 word types\n",
      "2018-04-21 18:34:54,511 : INFO : PROGRESS: at sentence #260000, processed 1035648 words, keeping 201911 word types\n",
      "2018-04-21 18:34:54,567 : INFO : PROGRESS: at sentence #270000, processed 1076299 words, keeping 207620 word types\n",
      "2018-04-21 18:34:54,626 : INFO : PROGRESS: at sentence #280000, processed 1117658 words, keeping 213434 word types\n",
      "2018-04-21 18:34:54,683 : INFO : PROGRESS: at sentence #290000, processed 1158245 words, keeping 219017 word types\n",
      "2018-04-21 18:34:54,735 : INFO : PROGRESS: at sentence #300000, processed 1198897 words, keeping 224664 word types\n",
      "2018-04-21 18:34:54,796 : INFO : PROGRESS: at sentence #310000, processed 1239607 words, keeping 230059 word types\n",
      "2018-04-21 18:34:54,850 : INFO : PROGRESS: at sentence #320000, processed 1280894 words, keeping 235675 word types\n",
      "2018-04-21 18:34:54,894 : INFO : PROGRESS: at sentence #330000, processed 1321315 words, keeping 240964 word types\n",
      "2018-04-21 18:34:54,927 : INFO : PROGRESS: at sentence #340000, processed 1361678 words, keeping 246191 word types\n",
      "2018-04-21 18:34:54,974 : INFO : PROGRESS: at sentence #350000, processed 1402024 words, keeping 251370 word types\n",
      "2018-04-21 18:34:55,009 : INFO : PROGRESS: at sentence #360000, processed 1442776 words, keeping 256632 word types\n",
      "2018-04-21 18:34:55,047 : INFO : PROGRESS: at sentence #370000, processed 1483539 words, keeping 261805 word types\n",
      "2018-04-21 18:34:55,085 : INFO : PROGRESS: at sentence #380000, processed 1523423 words, keeping 266852 word types\n",
      "2018-04-21 18:34:55,128 : INFO : PROGRESS: at sentence #390000, processed 1564379 words, keeping 272090 word types\n",
      "2018-04-21 18:34:55,232 : INFO : PROGRESS: at sentence #400000, processed 1605274 words, keeping 277135 word types\n",
      "2018-04-21 18:34:55,338 : INFO : PROGRESS: at sentence #410000, processed 1645484 words, keeping 282048 word types\n",
      "2018-04-21 18:34:55,423 : INFO : PROGRESS: at sentence #420000, processed 1686081 words, keeping 286991 word types\n",
      "2018-04-21 18:34:55,487 : INFO : PROGRESS: at sentence #430000, processed 1726972 words, keeping 291964 word types\n",
      "2018-04-21 18:34:55,546 : INFO : PROGRESS: at sentence #440000, processed 1766548 words, keeping 296688 word types\n",
      "2018-04-21 18:34:55,597 : INFO : PROGRESS: at sentence #450000, processed 1807267 words, keeping 301488 word types\n",
      "2018-04-21 18:34:55,645 : INFO : PROGRESS: at sentence #460000, processed 1847714 words, keeping 306093 word types\n",
      "2018-04-21 18:34:55,698 : INFO : PROGRESS: at sentence #470000, processed 1888461 words, keeping 310881 word types\n",
      "2018-04-21 18:34:55,786 : INFO : PROGRESS: at sentence #480000, processed 1929146 words, keeping 315611 word types\n",
      "2018-04-21 18:34:55,831 : INFO : PROGRESS: at sentence #490000, processed 1969371 words, keeping 320254 word types\n",
      "2018-04-21 18:34:55,875 : INFO : PROGRESS: at sentence #500000, processed 2009655 words, keeping 324906 word types\n",
      "2018-04-21 18:34:55,925 : INFO : PROGRESS: at sentence #510000, processed 2050618 words, keeping 329682 word types\n",
      "2018-04-21 18:34:55,966 : INFO : PROGRESS: at sentence #520000, processed 2091157 words, keeping 334226 word types\n",
      "2018-04-21 18:34:56,004 : INFO : PROGRESS: at sentence #530000, processed 2132099 words, keeping 338791 word types\n",
      "2018-04-21 18:34:56,053 : INFO : PROGRESS: at sentence #540000, processed 2173557 words, keeping 343350 word types\n",
      "2018-04-21 18:34:56,087 : INFO : PROGRESS: at sentence #550000, processed 2214521 words, keeping 347683 word types\n",
      "2018-04-21 18:34:56,162 : INFO : PROGRESS: at sentence #560000, processed 2255457 words, keeping 352218 word types\n",
      "2018-04-21 18:34:56,265 : INFO : PROGRESS: at sentence #570000, processed 2296228 words, keeping 356681 word types\n",
      "2018-04-21 18:34:56,405 : INFO : PROGRESS: at sentence #580000, processed 2336742 words, keeping 361252 word types\n",
      "2018-04-21 18:34:56,437 : INFO : PROGRESS: at sentence #590000, processed 2377384 words, keeping 365734 word types\n",
      "2018-04-21 18:34:56,488 : INFO : PROGRESS: at sentence #600000, processed 2418094 words, keeping 370240 word types\n",
      "2018-04-21 18:34:56,546 : INFO : PROGRESS: at sentence #610000, processed 2458857 words, keeping 374694 word types\n",
      "2018-04-21 18:34:56,589 : INFO : PROGRESS: at sentence #620000, processed 2499461 words, keeping 379116 word types\n",
      "2018-04-21 18:34:56,720 : INFO : PROGRESS: at sentence #630000, processed 2539994 words, keeping 383344 word types\n",
      "2018-04-21 18:34:56,826 : INFO : PROGRESS: at sentence #640000, processed 2581743 words, keeping 387690 word types\n",
      "2018-04-21 18:34:56,866 : INFO : PROGRESS: at sentence #650000, processed 2622770 words, keeping 392064 word types\n",
      "2018-04-21 18:34:56,906 : INFO : PROGRESS: at sentence #660000, processed 2663406 words, keeping 396274 word types\n",
      "2018-04-21 18:34:56,943 : INFO : PROGRESS: at sentence #670000, processed 2704049 words, keeping 400460 word types\n",
      "2018-04-21 18:34:56,990 : INFO : PROGRESS: at sentence #680000, processed 2745298 words, keeping 404651 word types\n",
      "2018-04-21 18:34:57,034 : INFO : PROGRESS: at sentence #690000, processed 2786405 words, keeping 408912 word types\n",
      "2018-04-21 18:34:57,097 : INFO : PROGRESS: at sentence #700000, processed 2827466 words, keeping 413233 word types\n",
      "2018-04-21 18:34:57,186 : INFO : PROGRESS: at sentence #710000, processed 2869387 words, keeping 417618 word types\n"
     ]
    },
    {
     "name": "stderr",
     "output_type": "stream",
     "text": [
      "2018-04-21 18:34:57,262 : INFO : PROGRESS: at sentence #720000, processed 2910521 words, keeping 421739 word types\n",
      "2018-04-21 18:34:57,301 : INFO : PROGRESS: at sentence #730000, processed 2951642 words, keeping 425937 word types\n",
      "2018-04-21 18:34:57,344 : INFO : PROGRESS: at sentence #740000, processed 2992774 words, keeping 430024 word types\n",
      "2018-04-21 18:34:57,381 : INFO : PROGRESS: at sentence #750000, processed 3033114 words, keeping 434029 word types\n",
      "2018-04-21 18:34:57,422 : INFO : PROGRESS: at sentence #760000, processed 3074255 words, keeping 438119 word types\n",
      "2018-04-21 18:34:57,475 : INFO : PROGRESS: at sentence #770000, processed 3114902 words, keeping 442162 word types\n",
      "2018-04-21 18:34:57,514 : INFO : PROGRESS: at sentence #780000, processed 3156369 words, keeping 446360 word types\n",
      "2018-04-21 18:34:57,558 : INFO : PROGRESS: at sentence #790000, processed 3197882 words, keeping 450429 word types\n",
      "2018-04-21 18:34:57,634 : INFO : PROGRESS: at sentence #800000, processed 3239294 words, keeping 454347 word types\n",
      "2018-04-21 18:34:57,666 : INFO : PROGRESS: at sentence #810000, processed 3280413 words, keeping 458296 word types\n",
      "2018-04-21 18:34:57,705 : INFO : PROGRESS: at sentence #820000, processed 3322281 words, keeping 462218 word types\n",
      "2018-04-21 18:34:57,737 : INFO : PROGRESS: at sentence #830000, processed 3363034 words, keeping 466074 word types\n",
      "2018-04-21 18:34:57,780 : INFO : PROGRESS: at sentence #840000, processed 3404082 words, keeping 469782 word types\n",
      "2018-04-21 18:34:57,828 : INFO : PROGRESS: at sentence #850000, processed 3445285 words, keeping 473592 word types\n",
      "2018-04-21 18:34:57,880 : INFO : PROGRESS: at sentence #860000, processed 3487709 words, keeping 477569 word types\n",
      "2018-04-21 18:34:57,923 : INFO : PROGRESS: at sentence #870000, processed 3529196 words, keeping 481448 word types\n",
      "2018-04-21 18:34:57,967 : INFO : PROGRESS: at sentence #880000, processed 3570144 words, keeping 485121 word types\n",
      "2018-04-21 18:34:58,020 : INFO : PROGRESS: at sentence #890000, processed 3611853 words, keeping 488939 word types\n",
      "2018-04-21 18:34:58,052 : INFO : PROGRESS: at sentence #900000, processed 3653395 words, keeping 492692 word types\n",
      "2018-04-21 18:34:58,095 : INFO : PROGRESS: at sentence #910000, processed 3694854 words, keeping 496481 word types\n",
      "2018-04-21 18:34:58,143 : INFO : PROGRESS: at sentence #920000, processed 3735908 words, keeping 500101 word types\n",
      "2018-04-21 18:34:58,187 : INFO : PROGRESS: at sentence #930000, processed 3777479 words, keeping 503543 word types\n",
      "2018-04-21 18:34:58,235 : INFO : PROGRESS: at sentence #940000, processed 3820370 words, keeping 507342 word types\n",
      "2018-04-21 18:34:58,281 : INFO : PROGRESS: at sentence #950000, processed 3862630 words, keeping 511019 word types\n",
      "2018-04-21 18:34:58,345 : INFO : PROGRESS: at sentence #960000, processed 3905015 words, keeping 514620 word types\n",
      "2018-04-21 18:34:58,393 : INFO : PROGRESS: at sentence #970000, processed 3947312 words, keeping 518256 word types\n",
      "2018-04-21 18:34:58,476 : INFO : PROGRESS: at sentence #980000, processed 3989939 words, keeping 521854 word types\n",
      "2018-04-21 18:34:58,528 : INFO : PROGRESS: at sentence #990000, processed 4032528 words, keeping 525494 word types\n",
      "2018-04-21 18:34:58,576 : INFO : PROGRESS: at sentence #1000000, processed 4075303 words, keeping 528935 word types\n",
      "2018-04-21 18:34:58,621 : INFO : PROGRESS: at sentence #1010000, processed 4117823 words, keeping 532419 word types\n",
      "2018-04-21 18:34:58,670 : INFO : PROGRESS: at sentence #1020000, processed 4160321 words, keeping 535937 word types\n",
      "2018-04-21 18:34:58,716 : INFO : PROGRESS: at sentence #1030000, processed 4203668 words, keeping 539575 word types\n",
      "2018-04-21 18:34:58,758 : INFO : PROGRESS: at sentence #1040000, processed 4246410 words, keeping 543093 word types\n",
      "2018-04-21 18:34:58,802 : INFO : PROGRESS: at sentence #1050000, processed 4289121 words, keeping 546435 word types\n",
      "2018-04-21 18:34:58,844 : INFO : PROGRESS: at sentence #1060000, processed 4332514 words, keeping 550024 word types\n",
      "2018-04-21 18:34:58,890 : INFO : PROGRESS: at sentence #1070000, processed 4374704 words, keeping 553388 word types\n",
      "2018-04-21 18:34:58,932 : INFO : PROGRESS: at sentence #1080000, processed 4417033 words, keeping 556726 word types\n",
      "2018-04-21 18:34:58,982 : INFO : PROGRESS: at sentence #1090000, processed 4459367 words, keeping 560175 word types\n",
      "2018-04-21 18:34:59,030 : INFO : PROGRESS: at sentence #1100000, processed 4501793 words, keeping 563600 word types\n",
      "2018-04-21 18:34:59,068 : INFO : PROGRESS: at sentence #1110000, processed 4543617 words, keeping 566785 word types\n",
      "2018-04-21 18:34:59,114 : INFO : PROGRESS: at sentence #1120000, processed 4586130 words, keeping 570327 word types\n",
      "2018-04-21 18:34:59,160 : INFO : PROGRESS: at sentence #1130000, processed 4628592 words, keeping 573864 word types\n",
      "2018-04-21 18:34:59,201 : INFO : PROGRESS: at sentence #1140000, processed 4671114 words, keeping 577382 word types\n",
      "2018-04-21 18:34:59,245 : INFO : PROGRESS: at sentence #1150000, processed 4711953 words, keeping 580655 word types\n",
      "2018-04-21 18:34:59,286 : INFO : PROGRESS: at sentence #1160000, processed 4753613 words, keeping 584097 word types\n",
      "2018-04-21 18:34:59,336 : INFO : PROGRESS: at sentence #1170000, processed 4794717 words, keeping 587362 word types\n",
      "2018-04-21 18:34:59,379 : INFO : PROGRESS: at sentence #1180000, processed 4835986 words, keeping 590673 word types\n",
      "2018-04-21 18:34:59,426 : INFO : PROGRESS: at sentence #1190000, processed 4878630 words, keeping 594164 word types\n",
      "2018-04-21 18:34:59,480 : INFO : PROGRESS: at sentence #1200000, processed 4920103 words, keeping 597485 word types\n",
      "2018-04-21 18:34:59,525 : INFO : PROGRESS: at sentence #1210000, processed 4961626 words, keeping 600825 word types\n",
      "2018-04-21 18:34:59,583 : INFO : PROGRESS: at sentence #1220000, processed 5003156 words, keeping 604106 word types\n",
      "2018-04-21 18:34:59,651 : INFO : PROGRESS: at sentence #1230000, processed 5044005 words, keeping 607550 word types\n",
      "2018-04-21 18:34:59,692 : INFO : PROGRESS: at sentence #1240000, processed 5084505 words, keeping 610967 word types\n",
      "2018-04-21 18:34:59,731 : INFO : PROGRESS: at sentence #1250000, processed 5124249 words, keeping 614292 word types\n",
      "2018-04-21 18:34:59,769 : INFO : PROGRESS: at sentence #1260000, processed 5165036 words, keeping 617511 word types\n",
      "2018-04-21 18:34:59,807 : INFO : PROGRESS: at sentence #1270000, processed 5205546 words, keeping 620865 word types\n",
      "2018-04-21 18:34:59,850 : INFO : PROGRESS: at sentence #1280000, processed 5245559 words, keeping 624138 word types\n",
      "2018-04-21 18:34:59,906 : INFO : PROGRESS: at sentence #1290000, processed 5285479 words, keeping 627482 word types\n",
      "2018-04-21 18:34:59,943 : INFO : PROGRESS: at sentence #1300000, processed 5325444 words, keeping 630758 word types\n",
      "2018-04-21 18:34:59,977 : INFO : PROGRESS: at sentence #1310000, processed 5365067 words, keeping 633956 word types\n",
      "2018-04-21 18:35:00,015 : INFO : PROGRESS: at sentence #1320000, processed 5404408 words, keeping 637223 word types\n",
      "2018-04-21 18:35:00,050 : INFO : PROGRESS: at sentence #1330000, processed 5443117 words, keeping 640459 word types\n",
      "2018-04-21 18:35:00,062 : INFO : collected 641622 word types from a corpus of 5456760 raw words and 1333503 sentences\n",
      "2018-04-21 18:35:00,063 : INFO : Loading a fresh vocabulary\n",
      "2018-04-21 18:35:04,300 : INFO : min_count=5 retains 83672 unique words (13% of original 641622, drops 557950)\n",
      "2018-04-21 18:35:04,301 : INFO : min_count=5 leaves 4712962 word corpus (86% of original 5456760, drops 743798)\n",
      "2018-04-21 18:35:04,532 : INFO : deleting the raw counts dictionary of 641622 items\n",
      "2018-04-21 18:35:04,547 : INFO : sample=0.001 downsamples 27 most-common words\n",
      "2018-04-21 18:35:04,548 : INFO : downsampling leaves estimated 4280607 word corpus (90.8% of prior 4712962)\n",
      "2018-04-21 18:35:04,808 : INFO : estimated required memory for 83672 words and 512 dimensions: 384556512 bytes\n",
      "2018-04-21 18:35:04,809 : INFO : resetting layer weights\n",
      "2018-04-21 18:35:06,509 : INFO : training model with 3 workers on 83672 vocabulary and 512 features, using sg=0 hs=0 sample=0.001 negative=5 window=5\n",
      "2018-04-21 18:35:07,529 : INFO : EPOCH 1 - PROGRESS: at 8.44% examples, 342758 words/s, in_qsize 6, out_qsize 0\n"
     ]
    },
    {
     "name": "stderr",
     "output_type": "stream",
     "text": [
      "2018-04-21 18:35:08,555 : INFO : EPOCH 1 - PROGRESS: at 17.17% examples, 351980 words/s, in_qsize 5, out_qsize 0\n",
      "2018-04-21 18:35:09,585 : INFO : EPOCH 1 - PROGRESS: at 25.64% examples, 351048 words/s, in_qsize 5, out_qsize 0\n",
      "2018-04-21 18:35:10,612 : INFO : EPOCH 1 - PROGRESS: at 34.53% examples, 354398 words/s, in_qsize 5, out_qsize 0\n",
      "2018-04-21 18:35:11,620 : INFO : EPOCH 1 - PROGRESS: at 42.99% examples, 354773 words/s, in_qsize 5, out_qsize 0\n",
      "2018-04-21 18:35:12,627 : INFO : EPOCH 1 - PROGRESS: at 51.44% examples, 355178 words/s, in_qsize 5, out_qsize 0\n",
      "2018-04-21 18:35:13,631 : INFO : EPOCH 1 - PROGRESS: at 58.90% examples, 350005 words/s, in_qsize 4, out_qsize 1\n",
      "2018-04-21 18:35:14,641 : INFO : EPOCH 1 - PROGRESS: at 66.33% examples, 346114 words/s, in_qsize 6, out_qsize 0\n",
      "2018-04-21 18:35:15,655 : INFO : EPOCH 1 - PROGRESS: at 74.00% examples, 344781 words/s, in_qsize 5, out_qsize 0\n",
      "2018-04-21 18:35:16,661 : INFO : EPOCH 1 - PROGRESS: at 81.90% examples, 345648 words/s, in_qsize 6, out_qsize 0\n",
      "2018-04-21 18:35:17,667 : INFO : EPOCH 1 - PROGRESS: at 89.60% examples, 344903 words/s, in_qsize 5, out_qsize 0\n",
      "2018-04-21 18:35:18,669 : INFO : EPOCH 1 - PROGRESS: at 97.73% examples, 344857 words/s, in_qsize 5, out_qsize 0\n",
      "2018-04-21 18:35:18,873 : INFO : worker thread finished; awaiting finish of 2 more threads\n",
      "2018-04-21 18:35:18,883 : INFO : worker thread finished; awaiting finish of 1 more threads\n",
      "2018-04-21 18:35:18,905 : INFO : worker thread finished; awaiting finish of 0 more threads\n",
      "2018-04-21 18:35:18,908 : INFO : EPOCH - 1 : training on 5456760 raw words (4281003 effective words) took 12.4s, 345704 effective words/s\n",
      "2018-04-21 18:35:19,941 : INFO : EPOCH 2 - PROGRESS: at 8.63% examples, 344991 words/s, in_qsize 6, out_qsize 0\n",
      "2018-04-21 18:35:20,967 : INFO : EPOCH 2 - PROGRESS: at 18.29% examples, 371817 words/s, in_qsize 5, out_qsize 0\n",
      "2018-04-21 18:35:21,968 : INFO : EPOCH 2 - PROGRESS: at 27.86% examples, 382866 words/s, in_qsize 5, out_qsize 0\n",
      "2018-04-21 18:35:22,971 : INFO : EPOCH 2 - PROGRESS: at 37.68% examples, 390211 words/s, in_qsize 6, out_qsize 0\n",
      "2018-04-21 18:35:23,971 : INFO : EPOCH 2 - PROGRESS: at 47.04% examples, 391737 words/s, in_qsize 6, out_qsize 0\n",
      "2018-04-21 18:35:24,972 : INFO : EPOCH 2 - PROGRESS: at 56.36% examples, 392861 words/s, in_qsize 5, out_qsize 0\n",
      "2018-04-21 18:35:25,981 : INFO : EPOCH 2 - PROGRESS: at 65.79% examples, 394462 words/s, in_qsize 5, out_qsize 0\n",
      "2018-04-21 18:35:26,998 : INFO : EPOCH 2 - PROGRESS: at 75.23% examples, 396538 words/s, in_qsize 5, out_qsize 0\n",
      "2018-04-21 18:35:28,017 : INFO : EPOCH 2 - PROGRESS: at 84.57% examples, 398229 words/s, in_qsize 6, out_qsize 1\n",
      "2018-04-21 18:35:29,026 : INFO : EPOCH 2 - PROGRESS: at 94.18% examples, 399730 words/s, in_qsize 6, out_qsize 0\n",
      "2018-04-21 18:35:29,574 : INFO : worker thread finished; awaiting finish of 2 more threads\n",
      "2018-04-21 18:35:29,581 : INFO : worker thread finished; awaiting finish of 1 more threads\n",
      "2018-04-21 18:35:29,608 : INFO : worker thread finished; awaiting finish of 0 more threads\n",
      "2018-04-21 18:35:29,609 : INFO : EPOCH - 2 : training on 5456760 raw words (4281334 effective words) took 10.7s, 400502 effective words/s\n",
      "2018-04-21 18:35:30,622 : INFO : EPOCH 3 - PROGRESS: at 9.57% examples, 390338 words/s, in_qsize 6, out_qsize 0\n",
      "2018-04-21 18:35:31,642 : INFO : EPOCH 3 - PROGRESS: at 19.20% examples, 395636 words/s, in_qsize 5, out_qsize 0\n",
      "2018-04-21 18:35:32,648 : INFO : EPOCH 3 - PROGRESS: at 28.79% examples, 398291 words/s, in_qsize 4, out_qsize 1\n",
      "2018-04-21 18:35:33,684 : INFO : EPOCH 3 - PROGRESS: at 38.78% examples, 400418 words/s, in_qsize 5, out_qsize 0\n",
      "2018-04-21 18:35:34,722 : INFO : EPOCH 3 - PROGRESS: at 47.95% examples, 395481 words/s, in_qsize 5, out_qsize 0\n",
      "2018-04-21 18:35:35,755 : INFO : EPOCH 3 - PROGRESS: at 56.53% examples, 388813 words/s, in_qsize 6, out_qsize 0\n",
      "2018-04-21 18:35:36,768 : INFO : EPOCH 3 - PROGRESS: at 65.05% examples, 385213 words/s, in_qsize 5, out_qsize 0\n",
      "2018-04-21 18:35:37,793 : INFO : EPOCH 3 - PROGRESS: at 73.30% examples, 381221 words/s, in_qsize 4, out_qsize 1\n",
      "2018-04-21 18:35:38,802 : INFO : EPOCH 3 - PROGRESS: at 81.02% examples, 377236 words/s, in_qsize 5, out_qsize 0\n",
      "2018-04-21 18:35:39,808 : INFO : EPOCH 3 - PROGRESS: at 89.78% examples, 377945 words/s, in_qsize 5, out_qsize 0\n",
      "2018-04-21 18:35:40,821 : INFO : EPOCH 3 - PROGRESS: at 98.87% examples, 378046 words/s, in_qsize 5, out_qsize 0\n",
      "2018-04-21 18:35:40,894 : INFO : worker thread finished; awaiting finish of 2 more threads\n",
      "2018-04-21 18:35:40,913 : INFO : worker thread finished; awaiting finish of 1 more threads\n",
      "2018-04-21 18:35:40,927 : INFO : worker thread finished; awaiting finish of 0 more threads\n",
      "2018-04-21 18:35:40,928 : INFO : EPOCH - 3 : training on 5456760 raw words (4280824 effective words) took 11.3s, 378505 effective words/s\n",
      "2018-04-21 18:35:41,958 : INFO : EPOCH 4 - PROGRESS: at 9.76% examples, 396415 words/s, in_qsize 5, out_qsize 1\n",
      "2018-04-21 18:35:42,989 : INFO : EPOCH 4 - PROGRESS: at 19.94% examples, 408008 words/s, in_qsize 4, out_qsize 1\n",
      "2018-04-21 18:35:44,004 : INFO : EPOCH 4 - PROGRESS: at 29.89% examples, 410305 words/s, in_qsize 5, out_qsize 0\n",
      "2018-04-21 18:35:45,017 : INFO : EPOCH 4 - PROGRESS: at 39.70% examples, 409822 words/s, in_qsize 6, out_qsize 0\n",
      "2018-04-21 18:35:46,023 : INFO : EPOCH 4 - PROGRESS: at 49.42% examples, 410120 words/s, in_qsize 5, out_qsize 0\n",
      "2018-04-21 18:35:47,044 : INFO : EPOCH 4 - PROGRESS: at 56.72% examples, 392723 words/s, in_qsize 6, out_qsize 0\n",
      "2018-04-21 18:35:48,065 : INFO : EPOCH 4 - PROGRESS: at 65.79% examples, 391422 words/s, in_qsize 5, out_qsize 0\n",
      "2018-04-21 18:35:49,075 : INFO : EPOCH 4 - PROGRESS: at 74.52% examples, 390283 words/s, in_qsize 6, out_qsize 1\n",
      "2018-04-21 18:35:50,081 : INFO : EPOCH 4 - PROGRESS: at 83.15% examples, 389741 words/s, in_qsize 5, out_qsize 0\n",
      "2018-04-21 18:35:51,086 : INFO : EPOCH 4 - PROGRESS: at 92.32% examples, 390740 words/s, in_qsize 5, out_qsize 0\n",
      "2018-04-21 18:35:51,814 : INFO : worker thread finished; awaiting finish of 2 more threads\n",
      "2018-04-21 18:35:51,829 : INFO : worker thread finished; awaiting finish of 1 more threads\n",
      "2018-04-21 18:35:51,844 : INFO : worker thread finished; awaiting finish of 0 more threads\n",
      "2018-04-21 18:35:51,844 : INFO : EPOCH - 4 : training on 5456760 raw words (4280343 effective words) took 10.9s, 392881 effective words/s\n",
      "2018-04-21 18:35:52,862 : INFO : EPOCH 5 - PROGRESS: at 9.95% examples, 404955 words/s, in_qsize 5, out_qsize 0\n",
      "2018-04-21 18:35:53,872 : INFO : EPOCH 5 - PROGRESS: at 19.76% examples, 408932 words/s, in_qsize 5, out_qsize 1\n",
      "2018-04-21 18:35:54,873 : INFO : EPOCH 5 - PROGRESS: at 29.70% examples, 412791 words/s, in_qsize 6, out_qsize 0\n",
      "2018-04-21 18:35:55,890 : INFO : EPOCH 5 - PROGRESS: at 39.51% examples, 411312 words/s, in_qsize 5, out_qsize 0\n",
      "2018-04-21 18:35:56,902 : INFO : EPOCH 5 - PROGRESS: at 49.23% examples, 410787 words/s, in_qsize 4, out_qsize 1\n",
      "2018-04-21 18:35:57,947 : INFO : EPOCH 5 - PROGRESS: at 59.09% examples, 409567 words/s, in_qsize 4, out_qsize 1\n",
      "2018-04-21 18:35:58,965 : INFO : EPOCH 5 - PROGRESS: at 68.68% examples, 409443 words/s, in_qsize 5, out_qsize 0\n",
      "2018-04-21 18:35:59,967 : INFO : EPOCH 5 - PROGRESS: at 77.86% examples, 409429 words/s, in_qsize 5, out_qsize 0\n",
      "2018-04-21 18:36:00,985 : INFO : EPOCH 5 - PROGRESS: at 86.36% examples, 405363 words/s, in_qsize 5, out_qsize 0\n",
      "2018-04-21 18:36:02,013 : INFO : EPOCH 5 - PROGRESS: at 94.55% examples, 399184 words/s, in_qsize 4, out_qsize 1\n",
      "2018-04-21 18:36:02,581 : INFO : worker thread finished; awaiting finish of 2 more threads\n",
      "2018-04-21 18:36:02,601 : INFO : worker thread finished; awaiting finish of 1 more threads\n",
      "2018-04-21 18:36:02,622 : INFO : worker thread finished; awaiting finish of 0 more threads\n",
      "2018-04-21 18:36:02,623 : INFO : EPOCH - 5 : training on 5456760 raw words (4279889 effective words) took 10.8s, 397525 effective words/s\n",
      "2018-04-21 18:36:03,647 : INFO : EPOCH 6 - PROGRESS: at 8.82% examples, 356458 words/s, in_qsize 5, out_qsize 0\n",
      "2018-04-21 18:36:04,661 : INFO : EPOCH 6 - PROGRESS: at 18.11% examples, 372298 words/s, in_qsize 5, out_qsize 0\n",
      "2018-04-21 18:36:05,702 : INFO : EPOCH 6 - PROGRESS: at 27.67% examples, 378462 words/s, in_qsize 5, out_qsize 0\n"
     ]
    },
    {
     "name": "stderr",
     "output_type": "stream",
     "text": [
      "2018-04-21 18:36:06,710 : INFO : EPOCH 6 - PROGRESS: at 37.12% examples, 382467 words/s, in_qsize 5, out_qsize 0\n",
      "2018-04-21 18:36:07,713 : INFO : EPOCH 6 - PROGRESS: at 46.67% examples, 386767 words/s, in_qsize 6, out_qsize 0\n",
      "2018-04-21 18:36:08,724 : INFO : EPOCH 6 - PROGRESS: at 55.98% examples, 388035 words/s, in_qsize 5, out_qsize 0\n",
      "2018-04-21 18:36:09,741 : INFO : EPOCH 6 - PROGRESS: at 65.24% examples, 388716 words/s, in_qsize 6, out_qsize 0\n",
      "2018-04-21 18:36:10,756 : INFO : EPOCH 6 - PROGRESS: at 74.88% examples, 392494 words/s, in_qsize 5, out_qsize 0\n",
      "2018-04-21 18:36:11,757 : INFO : EPOCH 6 - PROGRESS: at 84.21% examples, 395441 words/s, in_qsize 5, out_qsize 0\n",
      "2018-04-21 18:36:12,767 : INFO : EPOCH 6 - PROGRESS: at 93.63% examples, 396386 words/s, in_qsize 5, out_qsize 1\n",
      "2018-04-21 18:36:13,379 : INFO : worker thread finished; awaiting finish of 2 more threads\n",
      "2018-04-21 18:36:13,397 : INFO : worker thread finished; awaiting finish of 1 more threads\n",
      "2018-04-21 18:36:13,402 : INFO : worker thread finished; awaiting finish of 0 more threads\n",
      "2018-04-21 18:36:13,402 : INFO : EPOCH - 6 : training on 5456760 raw words (4280296 effective words) took 10.8s, 397584 effective words/s\n",
      "2018-04-21 18:36:14,419 : INFO : EPOCH 7 - PROGRESS: at 9.57% examples, 389109 words/s, in_qsize 5, out_qsize 0\n",
      "2018-04-21 18:36:15,421 : INFO : EPOCH 7 - PROGRESS: at 19.02% examples, 394822 words/s, in_qsize 5, out_qsize 0\n",
      "2018-04-21 18:36:16,456 : INFO : EPOCH 7 - PROGRESS: at 29.16% examples, 401517 words/s, in_qsize 6, out_qsize 0\n",
      "2018-04-21 18:36:17,491 : INFO : EPOCH 7 - PROGRESS: at 39.14% examples, 403084 words/s, in_qsize 6, out_qsize 0\n",
      "2018-04-21 18:36:18,517 : INFO : EPOCH 7 - PROGRESS: at 48.86% examples, 403096 words/s, in_qsize 5, out_qsize 0\n",
      "2018-04-21 18:36:19,525 : INFO : EPOCH 7 - PROGRESS: at 58.54% examples, 404394 words/s, in_qsize 5, out_qsize 0\n",
      "2018-04-21 18:36:20,541 : INFO : EPOCH 7 - PROGRESS: at 68.13% examples, 405083 words/s, in_qsize 5, out_qsize 0\n",
      "2018-04-21 18:36:21,550 : INFO : EPOCH 7 - PROGRESS: at 76.98% examples, 403403 words/s, in_qsize 5, out_qsize 0\n",
      "2018-04-21 18:36:22,569 : INFO : EPOCH 7 - PROGRESS: at 85.09% examples, 398240 words/s, in_qsize 5, out_qsize 0\n",
      "2018-04-21 18:36:23,582 : INFO : EPOCH 7 - PROGRESS: at 93.63% examples, 394932 words/s, in_qsize 5, out_qsize 1\n",
      "2018-04-21 18:36:24,265 : INFO : worker thread finished; awaiting finish of 2 more threads\n",
      "2018-04-21 18:36:24,296 : INFO : worker thread finished; awaiting finish of 1 more threads\n",
      "2018-04-21 18:36:24,302 : INFO : worker thread finished; awaiting finish of 0 more threads\n",
      "2018-04-21 18:36:24,303 : INFO : EPOCH - 7 : training on 5456760 raw words (4280848 effective words) took 10.9s, 393102 effective words/s\n",
      "2018-04-21 18:36:25,319 : INFO : EPOCH 8 - PROGRESS: at 9.20% examples, 375141 words/s, in_qsize 5, out_qsize 0\n",
      "2018-04-21 18:36:26,329 : INFO : EPOCH 8 - PROGRESS: at 18.47% examples, 382350 words/s, in_qsize 5, out_qsize 0\n",
      "2018-04-21 18:36:27,335 : INFO : EPOCH 8 - PROGRESS: at 27.86% examples, 386837 words/s, in_qsize 5, out_qsize 0\n",
      "2018-04-21 18:36:28,341 : INFO : EPOCH 8 - PROGRESS: at 37.49% examples, 391021 words/s, in_qsize 5, out_qsize 0\n",
      "2018-04-21 18:36:29,362 : INFO : EPOCH 8 - PROGRESS: at 47.04% examples, 392376 words/s, in_qsize 5, out_qsize 0\n",
      "2018-04-21 18:36:30,368 : INFO : EPOCH 8 - PROGRESS: at 56.53% examples, 394264 words/s, in_qsize 5, out_qsize 0\n",
      "2018-04-21 18:36:31,380 : INFO : EPOCH 8 - PROGRESS: at 66.15% examples, 396586 words/s, in_qsize 6, out_qsize 0\n",
      "2018-04-21 18:36:32,400 : INFO : EPOCH 8 - PROGRESS: at 75.76% examples, 399241 words/s, in_qsize 5, out_qsize 0\n",
      "2018-04-21 18:36:33,419 : INFO : EPOCH 8 - PROGRESS: at 85.09% examples, 400595 words/s, in_qsize 4, out_qsize 1\n",
      "2018-04-21 18:36:34,451 : INFO : EPOCH 8 - PROGRESS: at 95.11% examples, 402510 words/s, in_qsize 5, out_qsize 0\n",
      "2018-04-21 18:36:34,887 : INFO : worker thread finished; awaiting finish of 2 more threads\n",
      "2018-04-21 18:36:34,901 : INFO : worker thread finished; awaiting finish of 1 more threads\n",
      "2018-04-21 18:36:34,912 : INFO : worker thread finished; awaiting finish of 0 more threads\n",
      "2018-04-21 18:36:34,913 : INFO : EPOCH - 8 : training on 5456760 raw words (4281144 effective words) took 10.6s, 404028 effective words/s\n",
      "2018-04-21 18:36:35,940 : INFO : EPOCH 9 - PROGRESS: at 9.95% examples, 400078 words/s, in_qsize 5, out_qsize 0\n",
      "2018-04-21 18:36:36,969 : INFO : EPOCH 9 - PROGRESS: at 19.94% examples, 406626 words/s, in_qsize 5, out_qsize 0\n",
      "2018-04-21 18:36:37,986 : INFO : EPOCH 9 - PROGRESS: at 29.89% examples, 409019 words/s, in_qsize 5, out_qsize 0\n",
      "2018-04-21 18:36:38,990 : INFO : EPOCH 9 - PROGRESS: at 39.70% examples, 409745 words/s, in_qsize 5, out_qsize 0\n",
      "2018-04-21 18:36:40,018 : INFO : EPOCH 9 - PROGRESS: at 48.86% examples, 403751 words/s, in_qsize 5, out_qsize 0\n",
      "2018-04-21 18:36:41,029 : INFO : EPOCH 9 - PROGRESS: at 58.36% examples, 403460 words/s, in_qsize 4, out_qsize 1\n",
      "2018-04-21 18:36:42,036 : INFO : EPOCH 9 - PROGRESS: at 67.78% examples, 403668 words/s, in_qsize 5, out_qsize 0\n",
      "2018-04-21 18:36:43,062 : INFO : EPOCH 9 - PROGRESS: at 76.29% examples, 399379 words/s, in_qsize 5, out_qsize 0\n",
      "2018-04-21 18:36:44,064 : INFO : EPOCH 9 - PROGRESS: at 84.57% examples, 396226 words/s, in_qsize 5, out_qsize 0\n",
      "2018-04-21 18:36:45,071 : INFO : EPOCH 9 - PROGRESS: at 92.88% examples, 392569 words/s, in_qsize 6, out_qsize 0\n",
      "2018-04-21 18:36:45,781 : INFO : worker thread finished; awaiting finish of 2 more threads\n",
      "2018-04-21 18:36:45,804 : INFO : worker thread finished; awaiting finish of 1 more threads\n",
      "2018-04-21 18:36:45,812 : INFO : worker thread finished; awaiting finish of 0 more threads\n",
      "2018-04-21 18:36:45,813 : INFO : EPOCH - 9 : training on 5456760 raw words (4280818 effective words) took 10.9s, 393047 effective words/s\n",
      "2018-04-21 18:36:46,826 : INFO : EPOCH 10 - PROGRESS: at 9.39% examples, 383751 words/s, in_qsize 5, out_qsize 0\n",
      "2018-04-21 18:36:47,831 : INFO : EPOCH 10 - PROGRESS: at 18.84% examples, 391432 words/s, in_qsize 5, out_qsize 0\n",
      "2018-04-21 18:36:48,842 : INFO : EPOCH 10 - PROGRESS: at 28.42% examples, 394810 words/s, in_qsize 5, out_qsize 0\n",
      "2018-04-21 18:36:49,864 : INFO : EPOCH 10 - PROGRESS: at 38.04% examples, 395197 words/s, in_qsize 5, out_qsize 1\n",
      "2018-04-21 18:36:50,885 : INFO : EPOCH 10 - PROGRESS: at 47.77% examples, 397257 words/s, in_qsize 6, out_qsize 0\n",
      "2018-04-21 18:36:51,897 : INFO : EPOCH 10 - PROGRESS: at 57.64% examples, 400551 words/s, in_qsize 5, out_qsize 0\n",
      "2018-04-21 18:36:52,904 : INFO : EPOCH 10 - PROGRESS: at 67.23% examples, 402277 words/s, in_qsize 5, out_qsize 0\n",
      "2018-04-21 18:36:53,921 : INFO : EPOCH 10 - PROGRESS: at 76.81% examples, 404384 words/s, in_qsize 4, out_qsize 1\n",
      "2018-04-21 18:36:54,923 : INFO : EPOCH 10 - PROGRESS: at 86.18% examples, 405924 words/s, in_qsize 5, out_qsize 0\n",
      "2018-04-21 18:36:55,935 : INFO : EPOCH 10 - PROGRESS: at 95.85% examples, 406475 words/s, in_qsize 5, out_qsize 0\n",
      "2018-04-21 18:36:56,315 : INFO : worker thread finished; awaiting finish of 2 more threads\n",
      "2018-04-21 18:36:56,321 : INFO : worker thread finished; awaiting finish of 1 more threads\n",
      "2018-04-21 18:36:56,322 : INFO : worker thread finished; awaiting finish of 0 more threads\n",
      "2018-04-21 18:36:56,323 : INFO : EPOCH - 10 : training on 5456760 raw words (4280003 effective words) took 10.5s, 407733 effective words/s\n",
      "2018-04-21 18:36:56,324 : INFO : training on a 54567600 raw words (42806502 effective words) took 109.8s, 389819 effective words/s\n"
     ]
    }
   ],
   "source": [
    "model = word2vec.Word2Vec(\n",
    "    sentences,\n",
    "    size=512,\n",
    "    iter=10,\n",
    "    min_count=5\n",
    ")"
   ]
  },
  {
   "cell_type": "markdown",
   "metadata": {},
   "source": [
    "# Достанем что-то похожее на слова про телек..."
   ]
  },
  {
   "cell_type": "code",
   "execution_count": 257,
   "metadata": {
    "scrolled": true
   },
   "outputs": [
    {
     "data": {
      "text/plain": [
       "[('телеканала', 0.8498544692993164),\n",
       " ('царьград', 0.7331411838531494),\n",
       " ('телепередач', 0.7249411344528198),\n",
       " ('стс', 0.7153961658477783),\n",
       " ('рен', 0.6931476593017578),\n",
       " ('канале', 0.6882619261741638),\n",
       " ('сьогодні', 0.6826381683349609),\n",
       " ('твц', 0.6783917546272278),\n",
       " ('передач', 0.6760556101799011),\n",
       " ('кабельное', 0.6717840433120728),\n",
       " ('14.03.18', 0.671493649482727),\n",
       " ('нст', 0.6711063385009766),\n",
       " ('матч', 0.6686223745346069),\n",
       " ('канала', 0.6646552681922913),\n",
       " ('киносвидание', 0.6641346216201782),\n",
       " ('лайв', 0.662097692489624),\n",
       " ('фани', 0.6598319411277771),\n",
       " ('евроспорт', 0.6597453355789185),\n",
       " ('трансляция', 0.6594752669334412),\n",
       " ('програма', 0.6564922332763672),\n",
       " ('нтв', 0.6541877388954163),\n",
       " ('ртр', 0.6538896560668945),\n",
       " ('нейромир', 0.6507400274276733),\n",
       " ('нюся', 0.6499981880187988),\n",
       " ('бст', 0.6472169160842896),\n",
       " ('мейкаперы', 0.6468884944915771),\n",
       " ('игрушкин', 0.6418707966804504),\n",
       " ('тв1000', 0.641130805015564),\n",
       " ('тнв', 0.6410680413246155),\n",
       " ('пятница', 0.6389721035957336),\n",
       " ('кинозал', 0.6370574831962585),\n",
       " ('плейлист', 0.6345278024673462),\n",
       " ('трансляцию', 0.629193127155304),\n",
       " ('футбол', 0.6277906894683838),\n",
       " ('повтор', 0.6259238123893738),\n",
       " ('новостей', 0.6230475902557373),\n",
       " ('гадалка', 0.6226245760917664),\n",
       " ('пронько', 0.6221132278442383),\n",
       " ('телевидение', 0.6208633184432983),\n",
       " ('туркиш', 0.6206969022750854),\n",
       " ('решала', 0.6190080642700195),\n",
       " ('лайф', 0.614642858505249),\n",
       " ('эфир', 0.6138324737548828),\n",
       " ('дом2', 0.6067758798599243),\n",
       " ('слепая', 0.6055794358253479),\n",
       " ('дом-2', 0.6055547595024109),\n",
       " ('тв3', 0.6043165922164917),\n",
       " ('арена', 0.6030174493789673),\n",
       " ('руфильм', 0.6022910475730896),\n",
       " ('цифровое', 0.6016038060188293)]"
      ]
     },
     "execution_count": 257,
     "metadata": {},
     "output_type": "execute_result"
    }
   ],
   "source": [
    "model.wv.most_similar(['телеканал', 'тв', 'телепрограмма', 'канал'], topn=50)"
   ]
  },
  {
   "cell_type": "markdown",
   "metadata": {},
   "source": [
    "# Сложим все слова в один массив"
   ]
  },
  {
   "cell_type": "code",
   "execution_count": 258,
   "metadata": {},
   "outputs": [],
   "source": [
    "tv_words = [word[0] for word in model.wv.most_similar(['телеканал', 'тв', 'телепрограмма', 'канал'], topn=50)]"
   ]
  },
  {
   "cell_type": "markdown",
   "metadata": {},
   "source": [
    "# Функция для проверки предложения на принадлежность к теме телека"
   ]
  },
  {
   "cell_type": "code",
   "execution_count": 108,
   "metadata": {},
   "outputs": [],
   "source": [
    "def isTVSentence(sentence):\n",
    "    for word in tv_words:\n",
    "        if word in sentence:\n",
    "            return True\n",
    "        \n",
    "    return False"
   ]
  },
  {
   "cell_type": "markdown",
   "metadata": {},
   "source": [
    "# Достанем все запросы нужные"
   ]
  },
  {
   "cell_type": "code",
   "execution_count": 259,
   "metadata": {
    "scrolled": true
   },
   "outputs": [],
   "source": [
    "tv_requests = []\n",
    "\n",
    "for i in range(len(sentences)):\n",
    "    if isTVSentence(sentences[i]):\n",
    "        tv_requests.append(requests[i])"
   ]
  },
  {
   "cell_type": "code",
   "execution_count": 260,
   "metadata": {},
   "outputs": [],
   "source": [
    "tv_requests = np.array(tv_requests)"
   ]
  },
  {
   "cell_type": "code",
   "execution_count": 261,
   "metadata": {},
   "outputs": [
    {
     "data": {
      "text/plain": [
       "(7827,)"
      ]
     },
     "execution_count": 261,
     "metadata": {},
     "output_type": "execute_result"
    }
   ],
   "source": [
    "tv_requests.shape"
   ]
  },
  {
   "cell_type": "markdown",
   "metadata": {},
   "source": [
    "# Вроде похоже на правду"
   ]
  },
  {
   "cell_type": "code",
   "execution_count": 262,
   "metadata": {
    "scrolled": true
   },
   "outputs": [
    {
     "data": {
      "text/plain": [
       "array(['футбол 1 смотреть онлайн',\n",
       "       'смотреть онлайн матч футбол 1 прямая трансляция',\n",
       "       'футбол барселона',\n",
       "       'рома шахтер прямая трансляция смотреть 13 марта', 'футбол онлайн',\n",
       "       'программа передач', 'второй канал онлайн прямой эфир россия 1',\n",
       "       'матч футбол 1 iptv ссылка', 'россия 1 прямой эфир',\n",
       "       'кино мир минск пятница'], dtype='<U1256')"
      ]
     },
     "execution_count": 262,
     "metadata": {},
     "output_type": "execute_result"
    }
   ],
   "source": [
    "tv_requests[:10]"
   ]
  },
  {
   "cell_type": "markdown",
   "metadata": {},
   "source": [
    "# По поводу доли запросов получаем что-то такое"
   ]
  },
  {
   "cell_type": "code",
   "execution_count": 302,
   "metadata": {},
   "outputs": [
    {
     "data": {
      "text/plain": [
       "0.0058695031057297955"
      ]
     },
     "execution_count": 302,
     "metadata": {},
     "output_type": "execute_result"
    }
   ],
   "source": [
    "tv_requests.shape[0] * 1.0 / log.shape[0]"
   ]
  },
  {
   "cell_type": "markdown",
   "metadata": {},
   "source": [
    "# Теперь получим векторы предложений"
   ]
  },
  {
   "cell_type": "code",
   "execution_count": 274,
   "metadata": {
    "scrolled": false
   },
   "outputs": [
    {
     "data": {
      "application/vnd.jupyter.widget-view+json": {
       "model_id": "af6217eac43a445abc7b9023cc64df0d",
       "version_major": 2,
       "version_minor": 0
      },
      "text/html": [
       "<p>Failed to display Jupyter Widget of type <code>HBox</code>.</p>\n",
       "<p>\n",
       "  If you're reading this message in the Jupyter Notebook or JupyterLab Notebook, it may mean\n",
       "  that the widgets JavaScript is still loading. If this message persists, it\n",
       "  likely means that the widgets JavaScript library is either not installed or\n",
       "  not enabled. See the <a href=\"https://ipywidgets.readthedocs.io/en/stable/user_install.html\">Jupyter\n",
       "  Widgets Documentation</a> for setup instructions.\n",
       "</p>\n",
       "<p>\n",
       "  If you're reading this message in another frontend (for example, a static\n",
       "  rendering on GitHub or <a href=\"https://nbviewer.jupyter.org/\">NBViewer</a>),\n",
       "  it may mean that your frontend doesn't currently support widgets.\n",
       "</p>\n"
      ],
      "text/plain": [
       "HBox(children=(IntProgress(value=0, max=7827), HTML(value='')))"
      ]
     },
     "metadata": {},
     "output_type": "display_data"
    },
    {
     "name": "stdout",
     "output_type": "stream",
     "text": [
      "\n"
     ]
    }
   ],
   "source": [
    "sentence_vector = []\n",
    "sentence_words = []\n",
    "\n",
    "for req in tqdm_notebook(tv_requests):\n",
    "    try:\n",
    "        sentence_vector.append(np.sum(model.wv[req.split()], axis=0))\n",
    "        sentence_words.append(req)\n",
    "    except:\n",
    "        continue\n",
    "\n",
    "sentence_vector = np.array(sentence_vector)"
   ]
  },
  {
   "cell_type": "markdown",
   "metadata": {},
   "source": [
    "# Разделим все запросы на 10 кластеров"
   ]
  },
  {
   "cell_type": "code",
   "execution_count": 298,
   "metadata": {},
   "outputs": [],
   "source": [
    "clusters = KMeans(n_clusters=10, n_init=100, init='random', max_iter=1000, precompute_distances=True).fit(normalize(sentence_vector))"
   ]
  },
  {
   "cell_type": "code",
   "execution_count": 299,
   "metadata": {},
   "outputs": [],
   "source": [
    "labeled_requests = {}\n",
    "\n",
    "for i in range(len(clusters.labels_)):\n",
    "    if clusters.labels_[i] not in labeled_requests.keys():\n",
    "        labeled_requests[clusters.labels_[i]] = [sentence_words[i]]\n",
    "    else:\n",
    "        labeled_requests[clusters.labels_[i]].append(sentence_words[i])"
   ]
  },
  {
   "cell_type": "markdown",
   "metadata": {},
   "source": [
    "# Доля каждого кластера к общему числу выбранных запросов"
   ]
  },
  {
   "cell_type": "code",
   "execution_count": 305,
   "metadata": {},
   "outputs": [
    {
     "name": "stdout",
     "output_type": "stream",
     "text": [
      "0 0.10054938035007027\n",
      "1 0.06273157020569822\n",
      "2 0.06298709594991696\n",
      "3 0.1406669221924109\n",
      "4 0.06477577615944806\n",
      "5 0.10412674076913249\n",
      "6 0.07525233167241599\n",
      "7 0.14769388015842597\n",
      "8 0.060048549891401556\n",
      "9 0.06618116775265108\n"
     ]
    }
   ],
   "source": [
    "for label in sorted(labeled_requests.keys()):\n",
    "    print(label, len(labeled_requests[label]) * 1.0 / tv_requests.shape[0])"
   ]
  }
 ],
 "metadata": {
  "kernelspec": {
   "display_name": "Python 3",
   "language": "python",
   "name": "python3"
  },
  "language_info": {
   "codemirror_mode": {
    "name": "ipython",
    "version": 3
   },
   "file_extension": ".py",
   "mimetype": "text/x-python",
   "name": "python",
   "nbconvert_exporter": "python",
   "pygments_lexer": "ipython3",
   "version": "3.6.4"
  }
 },
 "nbformat": 4,
 "nbformat_minor": 2
}
